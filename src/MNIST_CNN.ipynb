{
 "cells": [
  {
   "cell_type": "markdown",
   "metadata": {},
   "source": [
    "## Implement CNN over MNIST dataset\n",
    "\n",
    "\n",
    "MNIST dataset is a collection of 60000 28x28 graysclae images of handwritten digits 0-9 (10 classes) and a testing set with 10000 images. The first part of the project is to implement a CNN over this dataset\n",
    "\n",
    "\n"
   ]
  },
  {
   "cell_type": "code",
   "execution_count": 1,
   "metadata": {},
   "outputs": [],
   "source": [
    "# Importing the necessary libraries used for the code\n",
    "import tensorflow as tf\n",
    "from tensorflow import keras\n",
    "import numpy as np\n",
    "import matplotlib.pyplot as plt"
   ]
  },
  {
   "cell_type": "code",
   "execution_count": 2,
   "metadata": {},
   "outputs": [
    {
     "name": "stderr",
     "output_type": "stream",
     "text": [
      "Using TensorFlow backend.\n"
     ]
    }
   ],
   "source": [
    "from keras.models import Sequential\n",
    "from keras.layers.core import Dense, Dropout, Activation, Flatten\n",
    "from keras.layers.convolutional import Convolution2D\n",
    "from keras.layers.convolutional import MaxPooling2D\n",
    "from keras.optimizers import RMSprop, adam\n",
    "from keras.callbacks import TensorBoard"
   ]
  },
  {
   "cell_type": "markdown",
   "metadata": {},
   "source": [
    "## 1.1 Loading the data"
   ]
  },
  {
   "cell_type": "code",
   "execution_count": 6,
   "metadata": {},
   "outputs": [],
   "source": [
    "# loading the data\n",
    "train_images=np.load('./MNIST/trainImages.npy')        # Loading training images\n",
    "train_labels=np.load('./MNIST/trainLabels.npy')        # Loading training labels\n",
    "test_images=np.load('./MNIST/testImages.npy')             # Loading test images\n",
    "test_labels=np.load('./MNIST/testLabels.npy')             # Loading test labels"
   ]
  },
  {
   "cell_type": "markdown",
   "metadata": {},
   "source": [
    "**Checking the shape of the dataset-** It's important to know the number of samples and the dimension of the data before it can be trained. "
   ]
  },
  {
   "cell_type": "code",
   "execution_count": 7,
   "metadata": {},
   "outputs": [
    {
     "name": "stdout",
     "output_type": "stream",
     "text": [
      "train_images original shape (60000, 1, 28, 28)\n",
      "train_labels original shape (60000, 10)\n",
      "test_images original shape (10000, 1, 28, 28)\n",
      "test_labels original shape (10000, 10)\n"
     ]
    }
   ],
   "source": [
    "# checking the data shape of the training images\n",
    "print(\"train_images original shape\", train_images.shape)\n",
    "print(\"train_labels original shape\", train_labels.shape)\n",
    "print(\"test_images original shape\", test_images.shape)\n",
    "print(\"test_labels original shape\", test_labels.shape)"
   ]
  },
  {
   "cell_type": "markdown",
   "metadata": {},
   "source": [
    "## 1.2 Reshaping the data"
   ]
  },
  {
   "cell_type": "code",
   "execution_count": 8,
   "metadata": {},
   "outputs": [],
   "source": [
    "# Since the data is not desired format, we are reshaping it. \n",
    "train_images = train_images.reshape(-1,28,28,1)\n",
    "test_images = test_images.reshape(-1,28,28,1)\n"
   ]
  },
  {
   "cell_type": "code",
   "execution_count": 9,
   "metadata": {},
   "outputs": [
    {
     "name": "stdout",
     "output_type": "stream",
     "text": [
      "Reshaped trainind data format (60000, 28, 28, 1)\n",
      "Reshaped testing data format (10000, 28, 28, 1)\n"
     ]
    }
   ],
   "source": [
    "print(\"Reshaped trainind data format\", train_images.shape)\n",
    "print(\"Reshaped testing data format\", test_images.shape)"
   ]
  },
  {
   "cell_type": "markdown",
   "metadata": {},
   "source": [
    "## 1.3 Normalizing the data\n",
    "**Normalization**\n",
    "\n",
    "We perform a grayscale normalization to reduce the effect of illumination differences.\n",
    "\n",
    "Moreover CNN converges faster on [0..1] data than on [0..255]."
   ]
  },
  {
   "cell_type": "code",
   "execution_count": 10,
   "metadata": {},
   "outputs": [],
   "source": [
    "# Normalize the data\n",
    "train_images = train_images / 255.0\n",
    "test_images = test_images / 255.0"
   ]
  },
  {
   "cell_type": "markdown",
   "metadata": {},
   "source": [
    "## 1.4 Converting the type to float32"
   ]
  },
  {
   "cell_type": "code",
   "execution_count": 11,
   "metadata": {},
   "outputs": [],
   "source": [
    "train_images = train_images.astype('float32')\n",
    "test_images = test_images.astype('float32')"
   ]
  },
  {
   "cell_type": "markdown",
   "metadata": {},
   "source": [
    "**DISPLAYING THE TRAINING DATA**\n",
    "\n",
    "The labels are already encoded into one hot vector."
   ]
  },
  {
   "cell_type": "code",
   "execution_count": 12,
   "metadata": {},
   "outputs": [
    {
     "name": "stdout",
     "output_type": "stream",
     "text": [
      "[0 0 0 0 1 0 0 0 0 0]\n"
     ]
    },
    {
     "data": {
      "image/png": "[encoded data removed]",
      "text/plain": [
       "<Figure size 432x288 with 1 Axes>"
      ]
     },
     "metadata": {
      "needs_background": "light"
     },
     "output_type": "display_data"
    }
   ],
   "source": [
    "plt.imshow(train_images[2][:,:,0], cmap='gray')\n",
    "plt.title(np.argwhere(train_labels[2]>0)[0][0])\n",
    "print(train_labels[2])"
   ]
  },
  {
   "cell_type": "code",
   "execution_count": 13,
   "metadata": {},
   "outputs": [],
   "source": [
    "image=[]\n",
    "label=[]\n",
    "for i in range (2,11):\n",
    "    image.append(train_images[i][:,:,0])\n",
    "    label.append(np.argwhere(train_labels[i]>0)[0][0])"
   ]
  },
  {
   "cell_type": "code",
   "execution_count": 14,
   "metadata": {},
   "outputs": [],
   "source": [
    "def plot_images(images, class_true, class_pred=None):\n",
    "    assert len(images) == len(class_true) == 9\n",
    "    \n",
    "    # Create figure with 3x3 sub-plots.\n",
    "    f, ax = plt.subplots(3, 3)\n",
    "    f.subplots_adjust(hspace=0.3, wspace=0.3)\n",
    "\n",
    "    for i, ax in enumerate(ax.flat):\n",
    "        # Plot image.\n",
    "        ax.imshow(images[i], cmap='binary')\n",
    "\n",
    "        # Show true and predicted classes.\n",
    "        if class_pred is None:\n",
    "            xlabel = \"True: {0}\".format(class_true[i])\n",
    "        else:\n",
    "            xlabel = \"True: {0}, Pred: {1}\".format(class_true[i], class_pred[i])\n",
    "\n",
    "        ax.set_xlabel(xlabel)\n",
    "        \n",
    "        # Remove ticks from the plot.\n",
    "        ax.set_xticks([])\n",
    "        ax.set_yticks([])\n",
    "        \n",
    "    # Ensure the plot is shown correctly with multiple plots\n",
    "    # in a single Notebook cell.\n",
    "    plt.show()"
   ]
  },
  {
   "cell_type": "markdown",
   "metadata": {},
   "source": [
    "Plotting the training data and its true labels"
   ]
  },
  {
   "cell_type": "code",
   "execution_count": 15,
   "metadata": {},
   "outputs": [
    {
     "data": {
      "image/png": "[encoded data removed]",
      "text/plain": [
       "<Figure size 432x288 with 9 Axes>"
      ]
     },
     "metadata": {},
     "output_type": "display_data"
    }
   ],
   "source": [
    "plot_images(image,label)"
   ]
  },
  {
   "cell_type": "markdown",
   "metadata": {},
   "source": [
    "**Defining the characteristic parameters for the CNN such as batch size, filter size and pooling size**"
   ]
  },
  {
   "cell_type": "code",
   "execution_count": 16,
   "metadata": {},
   "outputs": [],
   "source": [
    "#batch size\n",
    "batch_size = 86\n",
    "#epochs\n",
    "epochs = 5 \n",
    "# number of convolutional filters\n",
    "filters = 32\n",
    "# convolution filter size\n",
    "filter_size = (3, 3)\n",
    "# pooling size\n",
    "pooling_size = (2, 2)\n",
    "#%%\n",
    "\n",
    "\n",
    " "
   ]
  },
  {
   "cell_type": "markdown",
   "metadata": {},
   "source": [
    "## 1.6 Create the Convolutional Neural Networks (CNN)\n",
    "#### 1.  Define the model\n",
    "#### 2.  Compile the model\n",
    "#### 3.  Fit the model\n"
   ]
  },
  {
   "cell_type": "markdown",
   "metadata": {},
   "source": [
    "**Types of layers used in the network**\n",
    "\n",
    "**Convolution Layer:**\n",
    "\n",
    "As part of the architecture in this case, I have used two 2D convolution layers.  \n",
    "\n",
    "The size of the kernel and the filter size didn't affect the accuracy too much as I'm running it for only 5 epochs but on greater iterations, the difference will be noticable. Size of the filter used is 32 and 32 (i.e number of hidden neurons in each layer) for $1^{st}$ and $2^{nd}$ layers respectively. The size of the kernel used is [3,3] for both the layers. \n",
    "\n",
    "Non linearity used is ReLU activation function. \n",
    "\n",
    "**MaxPooling:**\n",
    "\n",
    "Max pooling is a sample-based discretization process. The objective is to down-sample an input representation (image, hidden-layer output matrix, etc.), reducing its dimensionality and allowing for assumptions to be made about features contained in the sub-regions. The size of the maxpooling window is usually [2,2] to reduce the current layer size by half.\n",
    "\n",
    "**Dropout Layer:**\n",
    "\n",
    "As you can see from the code block, we’ll also be utilizing dropout in our network architecture. Dropout works by randomly disconnecting nodes from the current layer to the next layer. This process of random disconnects during training batches helps naturally introduce redundancy into the model — no one single node in the layer is responsible for predicting a certain class, object, edge, or corner.\n",
    "\n",
    "Here we are choosing the probability to drop the connected edges to be 25%. the ideal range to select the probabilities is from 20% - 50%. We are applying 2 droput layers with probabilities of 25% and 50%. \n",
    "\n",
    "**Flatten:**\n",
    "\n",
    "Our data is in 2 dimensions after convolution and MaxPooling. To use a fully connected layer for classification, we need a 1D vector so that all the features captured by the Convolution layer can be used to make the classification.\n",
    "\n",
    "**Fully connected layer or dense layer:**\n",
    "\n",
    "Since we need the linear output we have to add the fully connected layers and the function used for this is 'dense()'.\n",
    "Here we are using 128 neurons in the hidden fully connected layer and since our ouput should be and number between 0-9 to classify the  MNIST data we are using 10 neuron in the output layer. The standard neuron numbers in the hidden layers are usually 64,128,256,512...\n",
    "\n",
    "Relu non-linearity is used for the fully connected layer but the output layer uses a softmax non-linearity."
   ]
  },
  {
   "cell_type": "code",
   "execution_count": 17,
   "metadata": {},
   "outputs": [
    {
     "name": "stdout",
     "output_type": "stream",
     "text": [
      "WARNING:tensorflow:From D:\\Software\\Anaconda\\envs\\ML\\lib\\site-packages\\tensorflow\\python\\framework\\op_def_library.py:263: colocate_with (from tensorflow.python.framework.ops) is deprecated and will be removed in a future version.\n",
      "Instructions for updating:\n",
      "Colocations handled automatically by placer.\n",
      "WARNING:tensorflow:From D:\\Software\\Anaconda\\envs\\ML\\lib\\site-packages\\keras\\backend\\tensorflow_backend.py:3445: calling dropout (from tensorflow.python.ops.nn_ops) with keep_prob is deprecated and will be removed in a future version.\n",
      "Instructions for updating:\n",
      "Please use `rate` instead of `keep_prob`. Rate should be set to `rate = 1 - keep_prob`.\n"
     ]
    }
   ],
   "source": [
    "# Layer struture:\n",
    "model = Sequential()\n",
    "# Conv 1: First convolutional layer. Arguments: number of filters, filter size, padding mode, input structure.\n",
    "model.add(Convolution2D(filters, (filter_size[0], filter_size[1]), input_shape=(28,28,1)))\n",
    "# Activ1: First activation layer using relu activation function.\n",
    "model.add(Activation('relu'))\n",
    "# Conv 2: Second convolutional layer.\n",
    "model.add(Convolution2D(filters, (filter_size[0], filter_size[1])))\n",
    "# Activ2: Second activation layer using relu activation function.\n",
    "model.add(Activation('relu'))\n",
    "# MaxPool1: First pooling layer using maxpooling method, Argument: pooling size.\n",
    "model.add(MaxPooling2D(pool_size=pooling_size))\n",
    "# Dropout1: First dropout layer. Drop 25% of neurons.\n",
    "model.add(Dropout(0.25))\n",
    "# Flatten1: First flatten layer.\n",
    "model.add(Flatten())\n",
    "# FC1: First fully connected layer.\n",
    "model.add(Dense(128))\n",
    "# Activ 3: Third activation layer using relu activation function.\n",
    "model.add(Activation('relu'))\n",
    "# Dropout2: Second dropout layer. Drop 50% of neurons.\n",
    "model.add(Dropout(0.5))\n",
    "# FC2: Second fully connected layer.\n",
    "model.add(Dense(10))\n",
    "# Activ 3: Forth activation layer using softmax activation function.\n",
    "model.add(Activation('softmax'))"
   ]
  },
  {
   "cell_type": "markdown",
   "metadata": {},
   "source": [
    "**Optimizer:**\n",
    "\n",
    "We are using Adam optimizer which is equivalent to stochastic gradient descent which is widely used to solve convex optimization problems and efficient in solving non convex problems as well.\n",
    "Adam is an optimization algorithm that can used instead of the classical stochastic gradient descent procedure to update network weights iterative based in training data.\n",
    "\n",
    "\n",
    "Adam is known for combining the advantages of two other extensions of stochastic gradient descent. Specifically:\n",
    "\n",
    "1. Adaptive Gradient Algorithm (AdaGrad) that maintains a per-parameter learning rate that improves performance on problems with sparse gradients (e.g. natural language and computer vision problems).\n",
    "\n",
    "2. Root Mean Square Propagation (RMSProp) that also maintains per-parameter learning rates that are adapted based on the average of recent magnitudes of the gradients for the weight (e.g. how quickly it is changing). This means the algorithm does well on online and non-stationary problems (e.g. noisy).\n",
    "\n",
    "Adam realizes the benefits of both AdaGrad and RMSProp. The algorithm calculates an exponential moving average of the gradient and the squared gradient, and the parameters beta1 and beta2 control the decay rates of these moving averages.\n",
    "\n",
    "The parameters primarily used are:\n",
    "1. Learning rate : The learning rate indicates the gradient step in the direction of the minima. \n",
    "2. Epsilon: A very small number to prevent any division by zero in the implementation (e.g. 10E-8)."
   ]
  },
  {
   "cell_type": "code",
   "execution_count": 18,
   "metadata": {},
   "outputs": [],
   "source": [
    "# Define the optimizer\n",
    "optimizer = adam(lr=0.001, epsilon=1e-08, decay=0.0)"
   ]
  },
  {
   "cell_type": "code",
   "execution_count": 19,
   "metadata": {},
   "outputs": [],
   "source": [
    "# Compile the model\n",
    "model.compile(optimizer = optimizer , loss = \"categorical_crossentropy\", metrics=[\"accuracy\"])"
   ]
  },
  {
   "cell_type": "code",
   "execution_count": 20,
   "metadata": {},
   "outputs": [
    {
     "name": "stdout",
     "output_type": "stream",
     "text": [
      "WARNING:tensorflow:From D:\\Software\\Anaconda\\envs\\ML\\lib\\site-packages\\tensorflow\\python\\ops\\math_ops.py:3066: to_int32 (from tensorflow.python.ops.math_ops) is deprecated and will be removed in a future version.\n",
      "Instructions for updating:\n",
      "Use tf.cast instead.\n",
      "Epoch 1/5\n",
      " - 129s - loss: 0.2448 - acc: 0.9262\n",
      "Epoch 2/5\n",
      " - 124s - loss: 0.0817 - acc: 0.9757\n",
      "Epoch 3/5\n",
      " - 58s - loss: 0.0662 - acc: 0.9791\n",
      "Epoch 4/5\n",
      " - 57s - loss: 0.0535 - acc: 0.9836\n",
      "Epoch 5/5\n",
      " - 56s - loss: 0.0450 - acc: 0.9864\n"
     ]
    }
   ],
   "source": [
    "# Fit the model\n",
    "history = model.fit(train_images,train_labels, batch_size=batch_size,\n",
    "                              epochs = epochs, \n",
    "                              verbose = 2)"
   ]
  },
  {
   "cell_type": "markdown",
   "metadata": {},
   "source": [
    "**Observation:** \n",
    "\n",
    "Since our validation accuracy is more than the training accuracy in each itterations and since it is increasing continuously we can infer that our model will not overfit the testing data and will give the similar accuracy as the trainig accuracy."
   ]
  },
  {
   "cell_type": "markdown",
   "metadata": {},
   "source": [
    "**Plotting the loss function and accuracy**"
   ]
  },
  {
   "cell_type": "code",
   "execution_count": 21,
   "metadata": {},
   "outputs": [
    {
     "data": {
      "image/png": "[encoded data removed]",
      "text/plain": [
       "<Figure size 432x288 with 2 Axes>"
      ]
     },
     "metadata": {
      "needs_background": "light"
     },
     "output_type": "display_data"
    }
   ],
   "source": [
    "# Plot the loss and accuracy curves for training data\n",
    "fig, ax = plt.subplots(2,1)\n",
    "ax[0].plot(history.history['loss'], color='b', label=\"Training loss\")\n",
    "legend = ax[0].legend(loc='best', shadow=True)\n",
    "\n",
    "ax[1].plot(history.history['acc'], color='b', label=\"Training accuracy\")\n",
    "legend = ax[1].legend(loc='best', shadow=True)"
   ]
  },
  {
   "cell_type": "markdown",
   "metadata": {},
   "source": [
    "## Running on Test data "
   ]
  },
  {
   "cell_type": "code",
   "execution_count": 22,
   "metadata": {},
   "outputs": [
    {
     "name": "stdout",
     "output_type": "stream",
     "text": [
      "Test loss: 0.027908153447086807\n",
      "Test accuracy: 0.9911\n"
     ]
    }
   ],
   "source": [
    "score = model.evaluate(test_images, test_labels, verbose=0)\n",
    "print('Test loss:', score[0])\n",
    "print('Test accuracy:', score[1])\n"
   ]
  }
 ],
 "metadata": {
  "kernelspec": {
   "display_name": "Python 3",
   "language": "python",
   "name": "python3"
  },
  "language_info": {
   "codemirror_mode": {
    "name": "ipython",
    "version": 3
   },
   "file_extension": ".py",
   "mimetype": "text/x-python",
   "name": "python",
   "nbconvert_exporter": "python",
   "pygments_lexer": "ipython3",
   "version": "3.7.3"
  }
 },
 "nbformat": 4,
 "nbformat_minor": 2
}
